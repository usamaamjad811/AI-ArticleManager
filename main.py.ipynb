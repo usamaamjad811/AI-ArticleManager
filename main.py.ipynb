{
 "cells": [
  {
   "cell_type": "code",
   "id": "initial_id",
   "metadata": {
    "collapsed": true,
    "ExecuteTime": {
     "end_time": "2024-10-26T18:29:10.702327Z",
     "start_time": "2024-10-26T18:29:08.982347Z"
    }
   },
   "source": [
    "# app/main.py\n",
    "from fastapi import FastAPI, HTTPException\n",
    "from langchain_community.chains.pebblo_retrieval.enforcement_filters import PINECONE\n",
    "\n",
    "from app.schemas import Article\n",
    "from app.crud import (\n",
    "    get_all_articles, get_article_by_id, create_article, update_article, delete_article\n",
    ")\n",
    "from fastapi.middleware.cors import CORSMiddleware\n",
    "import openai\n",
    "import os\n",
    "from langchain_openai import OpenAIEmbeddings\n",
    "from langchain.prompts import ChatPromptTemplate\n",
    "from langchain_openai.chat_models import ChatOpenAI\n",
    "from langchain.schema.output_parser import StrOutputParser\n",
    "from fastapi import FastAPI, HTTPException, status, Depends\n",
    "from langchain_community.document_loaders import TextLoader\n",
    "from langchain.text_splitter import RecursiveCharacterTextSplitter\n",
    "from langchain_community.vectorstores import FAISS\n",
    "from langchain_pinecone import PineconeVectorStore\n",
    "from pinecone import Pinecone, ServerlessSpec\n",
    "import time\n",
    "from langchain.schema.runnable import RunnablePassthrough, RunnableParallel\n",
    "from dotenv import load_dotenv, find_dotenv\n",
    "\n"
   ],
   "outputs": [
    {
     "name": "stdout",
     "output_type": "stream",
     "text": [
      "Connected to MongoDB database: article-management-db\n"
     ]
    },
    {
     "name": "stderr",
     "output_type": "stream",
     "text": [
      "/home/usama.amjad@vaival.tech/anaconda3/envs/dev/lib/python3.11/site-packages/pinecone/data/index.py:1: TqdmWarning: IProgress not found. Please update jupyter and ipywidgets. See https://ipywidgets.readthedocs.io/en/stable/user_install.html\n",
      "  from tqdm.autonotebook import tqdm\n"
     ]
    }
   ],
   "execution_count": 2
  },
  {
   "metadata": {
    "ExecuteTime": {
     "end_time": "2024-10-26T18:29:13.590085Z",
     "start_time": "2024-10-26T18:29:13.568550Z"
    }
   },
   "cell_type": "code",
   "source": [
    "load_dotenv(find_dotenv())\n",
    "openai.api_key = os.getenv(\"OPENAI_API_KEY\")\n",
    "pc = Pinecone(api_key=os.environ.get(\"PINECONE_API_KEY\"))\n",
    "\n",
    "cloud = os.environ.get('PINECONE_CLOUD') or 'aws'\n",
    "region = os.environ.get('PINECONE_REGION') or 'us-east-1'\n",
    "spec = ServerlessSpec(cloud=cloud, region=region)"
   ],
   "id": "1d3a649965035d8f",
   "outputs": [],
   "execution_count": 3
  },
  {
   "metadata": {
    "ExecuteTime": {
     "end_time": "2024-10-26T18:30:36.632589Z",
     "start_time": "2024-10-26T18:30:36.550342Z"
    }
   },
   "cell_type": "code",
   "source": [
    "embeddings = OpenAIEmbeddings(model=\"text-embedding-3-large\")\n",
    "text = TextLoader(\"/home/usama.amjad@vaival.tech/Documents/Extra Work/AI-ArticleManager/app/Data.txt\").load()\n"
   ],
   "id": "a355f9c8743c8861",
   "outputs": [],
   "execution_count": 5
  },
  {
   "metadata": {
    "ExecuteTime": {
     "end_time": "2024-10-26T18:30:47.798710Z",
     "start_time": "2024-10-26T18:30:47.795168Z"
    }
   },
   "cell_type": "code",
   "source": "print(text)",
   "id": "f001a38196ca9f1",
   "outputs": [
    {
     "name": "stdout",
     "output_type": "stream",
     "text": [
      "[Document(metadata={'source': '/home/usama.amjad@vaival.tech/Documents/Extra Work/AI-ArticleManager/app/Data.txt'}, page_content='Managing articles efficiently can be incredibly beneficial, whether you\\'re a student, researcher, or anyone aiming to stay informed. Here’s a comprehensive guide on how to manage articles in daily life:\\n\\nSet Clear Goals: Start by defining why you\\'re reading or collecting articles. Are you looking to stay updated, conduct research, or simply enjoy reading? This will help in setting up the best practices for managing articles effectively.\\n\\nSelect Reliable Sources: Choose credible sources to ensure the information you\\'re collecting is accurate and valuable. Look for peer-reviewed journals, reputable news sites, or expert publications.\\n\\nUse a Note-Taking System: Apps like Evernote, Notion, or OneNote allow you to organize notes related to your articles. Highlight key points, jot down your thoughts, and keep everything in one place for easy access.\\n\\nCategorize by Topic: Organize articles into categories or folders based on subjects, themes, or priority levels. This can make searching and referencing easier when you need specific information.\\n\\nUse a Reference Management Tool: Tools like Mendeley, Zotero, or EndNote help in organizing, citing, and even finding articles. They are especially useful for academic and research purposes.\\n\\nSet Aside Dedicated Reading Time: To avoid feeling overwhelmed, allocate specific times for reading articles. Even setting aside 15-20 minutes daily can keep you updated without overloading yourself.\\n\\nCreate Summaries for Quick Reference: After reading an article, write a brief summary highlighting key takeaways. This makes it easier to review later, especially if you need to reference it quickly.\\n\\nUse Tags and Keywords: Tagging articles with relevant keywords helps you filter and find them easily later on. This is useful when managing a large collection of articles on different topics.\\n\\nPrioritize Important Reads: Not all articles are equally valuable. Prioritize articles based on their relevance, urgency, and depth of information, and focus on the most important ones first.\\n\\nUtilize PDF Annotation Tools: Use tools like Adobe Acrobat or PDF Expert to highlight and annotate PDFs. This is particularly helpful for research papers and long articles.\\n\\nOrganize with Folders and Subfolders: Create a digital library with folders and subfolders. Structure it logically based on categories like \"Work,\" \"Hobbies,\" or \"Current Events.\"\\n\\nSet Up Alerts for New Articles: Use Google Alerts, RSS feeds, or notifications on journal sites to stay updated with the latest articles in your fields of interest.\\n\\nReview and Purge Regularly: Schedule regular reviews to delete outdated or irrelevant articles, helping you keep only what is useful and maintain a clutter-free collection.\\n\\nCreate a Reading Queue: Some articles may need to be read immediately, while others can wait. A \"Read Later\" folder helps you organize and save articles without losing track.\\n\\nUse Offline Reading Apps: Tools like Pocket or Instapaper allow you to save articles for offline reading, making it convenient to catch up even without internet access.\\n\\nHighlight Key Points: Focus on highlighting essential parts of the article. This allows you to revisit and recall the main points quickly when needed.\\n\\nArchive Completed Articles: Once you\\'ve read and noted an article, move it to an archive folder. This keeps your current reading list uncluttered while preserving valuable articles.\\n\\nSummarize Visually: Use mind maps or flowcharts to summarize information visually, which can be helpful for complex articles or research papers.\\n\\nStay Updated with Article Recommendations: Some platforms, like ResearchGate or Medium, recommend articles based on your interests. Use these suggestions to find new, relevant content.\\n\\nLimit Notifications: While it\\'s great to stay updated, too many notifications can be distracting. Limit alerts to essential sources and check them at specific times.\\n\\nExperiment with Speed Reading: Speed reading techniques can be helpful for skimming articles to find essential information, especially for lengthy reads.\\n\\nCreate a System for Sharing Articles: If you like to share articles with colleagues, friends, or social media, create a system—like a dedicated folder or app—to keep track of shareable content.\\n\\nUse AI Summarization Tools: AI tools like ChatGPT or QuillBot can summarize articles, saving you time by delivering the key points at a glance.\\n\\nEngage with Content: Leave comments, take notes, or write reflections on articles. Engaging actively with the content helps you retain and understand it better.\\n\\nStay Organized with Calendar Reminders: Set reminders for articles you want to revisit or follow up on, especially if they are part of ongoing research or project work.\\n\\nEmbrace Cloud Storage: Using cloud storage like Google Drive or Dropbox allows you to access your articles from any device and keeps your collection backed up.\\n\\nBuild a Database: For research-heavy article management, build a simple database in Notion, Airtable, or Excel to track titles, authors, and key findings.\\n\\nBalance Diverse Sources: Make a conscious effort to read articles from a variety of sources. This broadens your perspective and ensures a well-rounded understanding of topics.\\n\\nLimit Screen Time: Reading on screens can strain your eyes. Take breaks or alternate with printed articles to manage your reading time better.\\n\\nReflect on What You’ve Learned: After reading, spend a few moments reflecting on how the information affects your perspective or knowledge on a topic.\\n\\nBatch Process Articles: Try reading similar articles in batches. This helps you make connections between articles, deepening your understanding of related topics.\\n\\nUse Smart Highlighting: Rather than highlighting entire paragraphs, focus on phrases or keywords to make your notes more concise and effective.\\n\\nSchedule Periodic Reviews: Set aside time weekly or monthly to review archived articles, keeping relevant knowledge fresh.\\n\\nIntegrate Articles into Your Workflow: If you\\'re using articles for work or studies, incorporate your notes and highlights into your projects immediately.\\n\\nJoin Discussion Forums: Platforms like Reddit, ResearchGate, or Quora have communities that discuss articles, offering fresh perspectives and additional insights.\\n\\nMark Critical Articles with Priority: Mark articles that are highly relevant or critical to your goals, ensuring they stand out in your reading list.\\n\\nSet a Limit for Saved Articles: Avoid overwhelming yourself by setting a limit for saved articles. Prioritize quality over quantity.\\n\\nUse Bibliographic Tools: For academic purposes, tools like Mendeley or Zotero can generate citations and bibliographies for organized reference management.\\n\\nIntegrate Articles into Knowledge Repositories: Platforms like Notion or Roam Research help in organizing notes into knowledge bases, making long-term retention easier.\\n\\nMake Time for Reflection: Once you\\'ve read a significant article, pause and reflect on its impact on your understanding and decisions in that area.\\n\\nBy implementing these strategies, managing articles can become a more streamlined, productive, and enjoyable part of daily life.')]\n"
     ]
    }
   ],
   "execution_count": 7
  },
  {
   "metadata": {
    "ExecuteTime": {
     "end_time": "2024-10-26T18:30:40.310753Z",
     "start_time": "2024-10-26T18:30:40.306074Z"
    }
   },
   "cell_type": "code",
   "source": [
    "splitter = RecursiveCharacterTextSplitter(chunk_size=500, chunk_overlap=0)\n",
    "docs = splitter.split_documents(text)\n",
    "print(docs[0])\n",
    "print(docs[1])\n",
    "total_docs = f\"Total length of docs {len(docs[1:5])}\""
   ],
   "id": "38529ef2c0dcad4c",
   "outputs": [
    {
     "name": "stdout",
     "output_type": "stream",
     "text": [
      "page_content='Managing articles efficiently can be incredibly beneficial, whether you're a student, researcher, or anyone aiming to stay informed. Here’s a comprehensive guide on how to manage articles in daily life:\n",
      "\n",
      "Set Clear Goals: Start by defining why you're reading or collecting articles. Are you looking to stay updated, conduct research, or simply enjoy reading? This will help in setting up the best practices for managing articles effectively.' metadata={'source': '/home/usama.amjad@vaival.tech/Documents/Extra Work/AI-ArticleManager/app/Data.txt'}\n",
      "page_content='Select Reliable Sources: Choose credible sources to ensure the information you're collecting is accurate and valuable. Look for peer-reviewed journals, reputable news sites, or expert publications.\n",
      "\n",
      "Use a Note-Taking System: Apps like Evernote, Notion, or OneNote allow you to organize notes related to your articles. Highlight key points, jot down your thoughts, and keep everything in one place for easy access.' metadata={'source': '/home/usama.amjad@vaival.tech/Documents/Extra Work/AI-ArticleManager/app/Data.txt'}\n"
     ]
    }
   ],
   "execution_count": 6
  },
  {
   "metadata": {},
   "cell_type": "code",
   "outputs": [],
   "execution_count": null,
   "source": [
    "index_name = \"ai-article-manager\"\n",
    "\n",
    "if index_name not in pc.list_indexes().names():\n",
    "    pc.create_index(\n",
    "        name=index_name,\n",
    "        dimension=embeddings.dimension,\n",
    "        metric=\"cosine\",\n",
    "        spec=spec\n",
    "    )\n",
    "    # Wait for index to be ready\n",
    "    while not pc.describe_index(index_name).status['ready']:\n",
    "        time.sleep(1)\n",
    "\n",
    "# See that it is empty\n",
    "print(\"Index before upsert:\")\n",
    "print(pc.Index(index_name).describe_index_stats())\n",
    "print(\"\\n\")\n",
    "\n",
    "namespace = \"wondervector5000\"\n",
    "\n",
    "docsearch = PineconeVectorStore.from_documents(\n",
    "    documents=docs,\n",
    "    index_name=index_name,\n",
    "    embedding=embeddings,\n",
    "    namespace=namespace\n",
    ")\n",
    "\n",
    "time.sleep(5)"
   ],
   "id": "b4025477a904d5c1"
  },
  {
   "metadata": {},
   "cell_type": "code",
   "outputs": [],
   "execution_count": null,
   "source": "retriever = docsearch.as_retriever(search_kwargs={\"k\": 5})",
   "id": "1f9c66843d3cf368"
  },
  {
   "metadata": {},
   "cell_type": "code",
   "outputs": [],
   "execution_count": null,
   "source": [
    "\n",
    "\n",
    "template = \"\"\"\n",
    "You are an AI Article Manager. You have been asked to provide the most relevant article based on the user's question and the given context.\n",
    "Remember: Your goal is to provide the most accurate and relevant answer based on the user's question and the given context. If you cannot find a suitable match, it's better to admit that than to provide incorrect information.\n",
    "Question: {question}\n",
    "Context: {context}\n",
    "\"\"\"\n",
    "prompt = ChatPromptTemplate.from_template(template)\n",
    "llm = ChatOpenAI(model=\"gpt-4o\", temperature=0)\n",
    "chain = (\n",
    "        RunnableParallel({\"context\": retriever,\n",
    "                          \"question\": RunnablePassthrough()})\n",
    "        | prompt\n",
    "        | llm\n",
    "        | StrOutputParser()\n",
    ")\n",
    "Question = \"What is the best way to manage articles?\"\n",
    "response = chain.invoke(Question)\n",
    "print(response)\n"
   ],
   "id": "7a1f5b16a58c2399"
  }
 ],
 "metadata": {
  "kernelspec": {
   "display_name": "Python 3",
   "language": "python",
   "name": "python3"
  },
  "language_info": {
   "codemirror_mode": {
    "name": "ipython",
    "version": 2
   },
   "file_extension": ".py",
   "mimetype": "text/x-python",
   "name": "python",
   "nbconvert_exporter": "python",
   "pygments_lexer": "ipython2",
   "version": "2.7.6"
  }
 },
 "nbformat": 4,
 "nbformat_minor": 5
}
